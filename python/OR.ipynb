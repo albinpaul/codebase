{
 "cells": [
  {
   "cell_type": "code",
   "execution_count": 16,
   "metadata": {
    "collapsed": true
   },
   "outputs": [],
   "source": [
    "import numpy as np\n",
    "from fractions import Fraction\n",
    "\n",
    "list1=[2,4,3,-1,0,1,0]\n",
    "list1=[Fraction(i,1) for i in list1]\n",
    "list2=[1,2,4,0,-1,0,1]\n",
    "list2=[Fraction(i,1) for i in list2]\n",
    "a=np.array(list1,dtype=object)\n",
    "b=np.array(list2,dtype=object)\n",
    "c=np.array([0,0,0,0,0,1,1],dtype=object)"
   ]
  },
  {
   "cell_type": "code",
   "execution_count": 17,
   "metadata": {},
   "outputs": [
    {
     "name": "stdout",
     "output_type": "stream",
     "text": [
      "[Fraction(-3, 1) Fraction(-6, 1) Fraction(-7, 1) Fraction(1, 1)\n",
      " Fraction(1, 1) Fraction(0, 1) Fraction(0, 1)]\n",
      "[Fraction(2, 3) Fraction(4, 3) Fraction(1, 1) Fraction(-1, 3)\n",
      " Fraction(0, 1) Fraction(1, 3) Fraction(0, 1)]\n",
      "[Fraction(-5, 3) Fraction(-10, 3) Fraction(0, 1) Fraction(4, 3)\n",
      " Fraction(-1, 1) Fraction(-4, 3) Fraction(1, 1)]\n",
      "[Fraction(5, 3) Fraction(10, 3) Fraction(0, 1) Fraction(-4, 3)\n",
      " Fraction(1, 1) Fraction(7, 3) Fraction(0, 1)]\n",
      "[Fraction(1, 4) Fraction(1, 2) Fraction(1, 1) Fraction(0, 1)\n",
      " Fraction(-1, 4) Fraction(0, 1) Fraction(1, 4)]\n",
      "[Fraction(-5, 4) Fraction(-5, 2) Fraction(0, 1) Fraction(1, 1)\n",
      " Fraction(-3, 4) Fraction(-1, 1) Fraction(3, 4)]\n"
     ]
    }
   ],
   "source": [
    "print(c-a-b)\n",
    "a=a/3\n",
    "print(a)\n",
    "b=b-4*a\n",
    "print(b)\n",
    "print(c-b)\n",
    "b=b*3/4\n",
    "a=a-b*-1/3\n",
    "print(a)\n",
    "print(b)"
   ]
  },
  {
   "cell_type": "code",
   "execution_count": null,
   "metadata": {
    "collapsed": true
   },
   "outputs": [],
   "source": []
  }
 ],
 "metadata": {
  "kernelspec": {
   "display_name": "Python 3",
   "language": "python",
   "name": "python3"
  },
  "language_info": {
   "codemirror_mode": {
    "name": "ipython",
    "version": 3
   },
   "file_extension": ".py",
   "mimetype": "text/x-python",
   "name": "python",
   "nbconvert_exporter": "python",
   "pygments_lexer": "ipython3",
   "version": "3.6.3"
  }
 },
 "nbformat": 4,
 "nbformat_minor": 2
}
