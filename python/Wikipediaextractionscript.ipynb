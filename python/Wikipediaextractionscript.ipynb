{
 "cells": [
  {
   "cell_type": "code",
   "execution_count": 11,
   "metadata": {},
   "outputs": [
    {
     "name": "stdout",
     "output_type": "stream",
     "text": [
      "Giratina (ギラティナ, /ɡɪərəˈtiːnə/), is a Pokémon species in Nintendo and Game Freak's Pokémon franchise. Created by Ken Sugimori,[citation needed] Giratina first appeared in the video games Pokémon Diamond and Pearl, but gained prominence in the sister game, Pokémon Platinum, of which it was made the mascot. It later appeared in various merchandise, spinoff titles and animated and printed adaptations of the franchise. Giratina is featured prominently in the film Giratina and the Sky Warrior, and later appears in the film Arceus and the Jewel of Life.\n",
      "Known as the Renegade Pokémon, Giratina is one of a trio of legendary Pokémon, alongside Dialga and Palkia, that represents Pokémon Platinum and appears on its cover art. While Dialga and Palkia represent time and space, Giratina represents gravity. In Platinum, it was given a unique design called the Origin Forme, which depicts it as a floating creature that writers have described as being similar to a snake or larva. Since it appeared in the Pokémon series, Giratina has received generally positive reception. It has been featured in several forms of merchandise, including figurines, plush toys, and the Pokémon Trading Card Game.\n",
      "\n",
      "\n",
      "Giratina, known as the Renegade Pokémon, is one of a trio of legendary Pokémon, alongside Dialga and Palkia. Giratina has a long, platinum-colored, segmented body with six legs, and has ghostly wings with red spikes. Six rib-like yellow rings encircle its neck, and the pale yellow ornament on its head resembles a human collarbone. While in its own realm, the Distortion World, it takes on its \"Origin Forme\" (オリジンフォルム, Orijin Forumu), which differs from the \"Altered Forme\" (\"Another Forme\" (アナザーフォルム, Anazā Forumu) in Japanese) it takes in the real world (in the video games it also takes on its Origin Forme when holding the Griseous Orb). It has a slightly different head with a beak like mouth, long \"streamers\" with spikes instead of wings, and spikes in place of legs, becoming more serpentine.\n",
      "It was created along with Dialga and Palkia by Arceus, though as it was banished for its violence (by Arceus) to the dimension called the Distortion World.,[1] it has been forgotten from the legends as \"one whose name was never to be spoken.\" While Dialga and Palkia represent time and space, Giratina represents the dimensions besides those of time and space and desolate void that exists between these planes, and the antimatter that suffuses it. Though residing within the Distortion World, it can also visit a cemetery-like ruin known as Turnback Cave, a place where the dimensional boundaries are said to be distorted, and dead Pokémon are able to enter the physical world. Giratina is capable of inter-dimensional travel, which causes it to change forms unless holding a \"Griseous Orb\" (Only in game). It is able to see into the normal world through mirrors and reflective objects, because they can bring to mind other dimensions.\n",
      "The designers of Pokémon Platinum designed Giratina's Origin Forme to be \"opposite\" of Dialga and Palkia as well as to make its existence \"more fun, more interesting, cooler\".[2] They paid \"meticulous attention\" to the Origin Forme's details; the designer \"redrew Giratina's image again and again\" in order to make it \"significantly different\" and change its shape. The designers eventually decided to feature the Origin Forme on the cover of Platinum.[3] Designer Junichi Masuda envisioned concepts of \"reversed world\", \"matter and anti-matter\", and \"E = mc2\" in designing it.[4] Its location, the Distortion World, was designed by Takeshi Kawachimaru around Giratina, with the concept as \"how Giratina fits in the world\". When designing its theme, Masuda \"thought of the front/back, life/death\" to make it cover \"bipolar, opposite ideas\".[5]\n",
      "In the video games Pokémon Diamond and Pearl, Giratina can be found in Turnback Cave after the player defeats the Elite Four. In the remake of Diamond and Pearl titled Pokémon Platinum, Giratina serves as the mascot and appears on its cover. It features a design unique to it called the Origin Forme. It also appears in Pokémon HeartGold and SoulSilver as part of a special event. Outside of the main titles, Giratina appears in Pokémon Mystery Dungeon: Explorers of Time and Explorers of Darkness and Pokémon Rumble. In Super Smash Bros. for Nintendo 3DS and Wii U, it appears in its Altered Forme as a Poké Ball/Master Ball summon, using Dragon Breath upon being released.\n",
      "Giratina is featured prominently in the film Pokémon: Giratina and the Sky Warrior. Giratina also appears in the film Pokémon: Arceus and the Jewel of Life. Giratina also appears in the manga based on the two films. In the Pokémon Adventures manga, the Rocket Executives use Arceus' power to create replications of Dialga, Palkia, and Giratina, but they are destroyed before they can materialize.\n",
      "Since appearing in Pokémon Diamond and Pearl, Giratina has received generally positive reception. It was featured in a Pokémon Platinum-themed deck of playing cards as the Joker.[6] As a bonus for pre-ordering Platinum, select pre-orderers would receive a 2.75\" sculpted figurine of Giratina's Origin Forme.[7] This was a part of a promotion called \"Search for Giratina\", which also encompassed a number of other promotional items.[8] In Europe, Nintendo made available a limited ion DS Lite featuring Giratina's Origin Forme through their \"Stars Catalogue\" which could be purchased with coins that are earned by buying Nintendo games and registering them.[9]\n",
      "It is considered to be a popular Pokémon by sources such as IGN and GameSpot.[10][11] GamesRadar or Carolyn Gudmundson called it \"fearsome,\"[12] while PALGN's \"Toastfarmer\" called it \"scary.\"[13] Official Nintendo Magazine's Tom East bemoaned the lack of villains in the Super Smash Bros. series, suggesting that Giratina would be a good choice for a playable character in Super Smash Bros. Brawl. He described it as the \"biggest badboy of them all\" and cited its impressive statistics and wide variety of abilities as reason for it to appear.[14] 1UP.com's Justin Haywald described Giratina's new form as one of Platinum's \"biggest draws\".[15] In a poll conducted by IGN, it was voted as the thirty-ninth top Pokémon, where the staff commented that it is \"kind of terrible to look at\".[16]\n",
      "Contents\n",
      "Concept and creation[edit]\n",
      "Appearances[edit]\n",
      "Reception[edit]\n",
      "References[edit]\n",
      "See also[edit]\n",
      "Navigation menu\n"
     ]
    }
   ],
   "source": [
    "from bs4 import BeautifulSoup as bs\n",
    "import pandas as pd\n",
    "import requests\n",
    "from re import sub\n",
    "url = \"https://en.wikipedia.org/wiki/Giratina\"\n",
    "with requests.Session() as session:\n",
    "    session.headers = {\n",
    "        'User-Agent': 'Mozilla/5.0 (Macintosh; Intel Mac OS X 10_10_2) AppleWebKit/537.36 (KHTML, like Gecko) Chrome/40.0.2214.115 Safari/537.36'\n",
    "    }\n",
    "    response = session.get(url)\n",
    "    soup = bs(response.content, 'html.parser')\n",
    "  \n",
    "    for para in  soup.find_all('p'):\n",
    "        print(sub(r'edit','',para.text))\n",
    "    for h in soup.find_all('h2'):\n",
    "        print(h.text)"
   ]
  }
 ],
 "metadata": {
  "kernelspec": {
   "display_name": "Python 3",
   "language": "python",
   "name": "python3"
  },
  "language_info": {
   "codemirror_mode": {
    "name": "ipython",
    "version": 3
   },
   "file_extension": ".py",
   "mimetype": "text/x-python",
   "name": "python",
   "nbconvert_exporter": "python",
   "pygments_lexer": "ipython3",
   "version": "3.6.3"
  }
 },
 "nbformat": 4,
 "nbformat_minor": 2
}
