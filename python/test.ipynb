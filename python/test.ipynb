{
 "cells": [
  {
   "cell_type": "code",
   "execution_count": 118,
   "metadata": {},
   "outputs": [
    {
     "name": "stdout",
     "output_type": "stream",
     "text": [
      "5464 219.78\n",
      "8274 233.82\n",
      "9744 809.1\n",
      "88112 474.64\n",
      "8732 83.93\n",
      "7733 208.89\n",
      "[('9744', 809.1), ('88112', 474.64), ('5464', 219.78), ('8274', 233.82), ('8732', 83.93), ('7733', 208.89)]\n"
     ]
    }
   ],
   "source": [
    "from functools import reduce\n",
    "order = [('5464', 39.96), ('8274', 233.82), ('9744', 404.55), \n",
    "         ('5464', 89.91), ('9744', 404.55), ('5464', 89.91), \n",
    "         ('88112', 274.89), ('8732', 83.93), ('7733', 208.89), ('88112', 199.75)]\n",
    "d={}\n",
    "for i in order:\n",
    "    if i[0] in d:\n",
    "        d[i[0]]+=i[1]\n",
    "    else:\n",
    "        d[i[0]]=i[1]\n",
    "for key,values in d.items():\n",
    "    print(key,values)\n",
    "d={}\n",
    "# print(\n",
    "#     list(\n",
    "#         map(\n",
    "#             lambda x: \n",
    "#             list(\n",
    "#                 reduce(\n",
    "#                     (lambda s,t:\n",
    "#                      s\n",
    "#                     ),order)\n",
    "#             ),order)\n",
    "#         )\n",
    "# )\n",
    "print(list(set(map(lambda x: (x[0],sum(map(lambda y:   y[1] if x[0] == y[0] else 0,order) )),order)) ) )\n",
    "\n"
   ]
  }
 ],
 "metadata": {
  "kernelspec": {
   "display_name": "Python 3",
   "language": "python",
   "name": "python3"
  },
  "language_info": {
   "codemirror_mode": {
    "name": "ipython",
    "version": 3
   },
   "file_extension": ".py",
   "mimetype": "text/x-python",
   "name": "python",
   "nbconvert_exporter": "python",
   "pygments_lexer": "ipython3",
   "version": "3.6.3"
  }
 },
 "nbformat": 4,
 "nbformat_minor": 2
}
